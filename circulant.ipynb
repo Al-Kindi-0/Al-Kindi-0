{
  "cells": [
    {
      "cell_type": "markdown",
      "metadata": {
        "colab_type": "text",
        "id": "view-in-github"
      },
      "source": [
        "<a href=\"https://colab.research.google.com/github/Al-Kindi-0/Al-Kindi-0/blob/main/circulant.ipynb\" target=\"_parent\"><img src=\"https://colab.research.google.com/assets/colab-badge.svg\" alt=\"Open In Colab\"/></a>"
      ]
    },
    {
      "cell_type": "code",
      "execution_count": 1,
      "metadata": {
        "id": "2AZpraaGFFss"
      },
      "outputs": [
        {
          "ename": "ModuleNotFoundError",
          "evalue": "No module named 'scipy.fft'",
          "output_type": "error",
          "traceback": [
            "\u001b[0;31m---------------------------------------------------------------------------\u001b[0m",
            "\u001b[0;31mModuleNotFoundError\u001b[0m                       Traceback (most recent call last)",
            "\u001b[0;32m/tmp/ipykernel_41181/627282025.py\u001b[0m in \u001b[0;36m<module>\u001b[0;34m\u001b[0m\n\u001b[1;32m      1\u001b[0m \u001b[0;32mimport\u001b[0m \u001b[0msympy\u001b[0m\u001b[0;34m\u001b[0m\u001b[0;34m\u001b[0m\u001b[0m\n\u001b[1;32m      2\u001b[0m \u001b[0;32mfrom\u001b[0m \u001b[0mscipy\u001b[0m\u001b[0;34m.\u001b[0m\u001b[0mlinalg\u001b[0m \u001b[0;32mimport\u001b[0m \u001b[0mcirculant\u001b[0m\u001b[0;34m\u001b[0m\u001b[0;34m\u001b[0m\u001b[0m\n\u001b[0;32m----> 3\u001b[0;31m \u001b[0;32mfrom\u001b[0m \u001b[0mscipy\u001b[0m\u001b[0;34m.\u001b[0m\u001b[0mfft\u001b[0m \u001b[0;32mimport\u001b[0m \u001b[0mfft\u001b[0m\u001b[0;34m,\u001b[0m \u001b[0mifft\u001b[0m\u001b[0;34m\u001b[0m\u001b[0;34m\u001b[0m\u001b[0m\n\u001b[0m\u001b[1;32m      4\u001b[0m \u001b[0;32mimport\u001b[0m \u001b[0mnumpy\u001b[0m \u001b[0;32mas\u001b[0m \u001b[0mnp\u001b[0m\u001b[0;34m\u001b[0m\u001b[0;34m\u001b[0m\u001b[0m\n",
            "\u001b[0;31mModuleNotFoundError\u001b[0m: No module named 'scipy.fft'"
          ]
        }
      ],
      "source": [
        "import sympy\n",
        "from scipy.linalg import circulant\n",
        "from scipy.fft import fft, ifft\n",
        "import numpy as np"
      ]
    },
    {
      "cell_type": "code",
      "execution_count": 2,
      "metadata": {
        "colab": {
          "base_uri": "https://localhost:8080/"
        },
        "id": "4w2P35jc_idg",
        "outputId": "7d844d85-509e-4482-fcec-e94a48d25b12"
      },
      "outputs": [
        {
          "name": "stdout",
          "output_type": "stream",
          "text": [
            "[[    1     1     2     1     8    32     2   256  4096     8 65536  1024]\n",
            " [ 1024     1     1     2     1     8    32     2   256  4096     8 65536]\n",
            " [65536  1024     1     1     2     1     8    32     2   256  4096     8]\n",
            " [    8 65536  1024     1     1     2     1     8    32     2   256  4096]\n",
            " [ 4096     8 65536  1024     1     1     2     1     8    32     2   256]\n",
            " [  256  4096     8 65536  1024     1     1     2     1     8    32     2]\n",
            " [    2   256  4096     8 65536  1024     1     1     2     1     8    32]\n",
            " [   32     2   256  4096     8 65536  1024     1     1     2     1     8]\n",
            " [    8    32     2   256  4096     8 65536  1024     1     1     2     1]\n",
            " [    1     8    32     2   256  4096     8 65536  1024     1     1     2]\n",
            " [    2     1     8    32     2   256  4096     8 65536  1024     1     1]\n",
            " [    1     2     1     8    32     2   256  4096     8 65536  1024     1]]\n"
          ]
        }
      ],
      "source": [
        "print(circulant([1, 1, 2, 1, 8, 32, 2, 256, 4096, 8, 65536, 1024]).T)"
      ]
    },
    {
      "cell_type": "code",
      "execution_count": 3,
      "metadata": {
        "id": "Hw0KzvrM_lHy"
      },
      "outputs": [],
      "source": [
        "M = circulant([1, 1, 2, 1, 8, 32, 2, 256, 4096, 8, 65536, 1024]).T"
      ]
    },
    {
      "cell_type": "code",
      "execution_count": 4,
      "metadata": {
        "id": "iYg_l5Y1_vQO"
      },
      "outputs": [],
      "source": [
        "v = np.array([i for i in range(12)])"
      ]
    },
    {
      "cell_type": "code",
      "execution_count": 5,
      "metadata": {
        "colab": {
          "base_uri": "https://localhost:8080/"
        },
        "id": "qzJ1w1pOzisg",
        "outputId": "e184b190-7b07-47bf-cd13-ee87f2cf0da6"
      },
      "outputs": [
        {
          "data": {
            "text/plain": [
              "[1, 1024, 65536, 8, 4096, 256, 2, 32, 8, 1, 2, 1]"
            ]
          },
          "execution_count": 5,
          "metadata": {},
          "output_type": "execute_result"
        }
      ],
      "source": [
        "# We need the characterizing vector of the circulant matrix i.e. the first column\n",
        "zz = [1, 1, 2, 1, 8, 32, 2, 256, 4096, 8, 65536, 1024]\n",
        "zz = zz[1:]\n",
        "zz.reverse()\n",
        "zz = [1] + zz\n",
        "zz"
      ]
    },
    {
      "cell_type": "code",
      "execution_count": 5,
      "metadata": {
        "id": "1q8WFbNsg4dc"
      },
      "outputs": [],
      "source": []
    },
    {
      "cell_type": "markdown",
      "metadata": {
        "id": "LHwFRjXzg49t"
      },
      "source": [
        "Check that the fourier-based multiplication works\n"
      ]
    },
    {
      "cell_type": "code",
      "execution_count": 6,
      "metadata": {
        "colab": {
          "base_uri": "https://localhost:8080/"
        },
        "id": "cIU9FSN5ztqg",
        "outputId": "b39ef968-a574-4d18-d673-7623893afced"
      },
      "outputs": [
        {
          "data": {
            "text/plain": [
              "array([701468.+0.j, 760147.+0.j,  44682.+0.j, 115553.+0.j, 137368.+0.j,\n",
              "       205263.+0.j, 276206.+0.j, 346789.+0.j, 417660.+0.j, 488615.+0.j,\n",
              "       559558.+0.j, 630513.-0.j])"
            ]
          },
          "execution_count": 6,
          "metadata": {},
          "output_type": "execute_result"
        }
      ],
      "source": [
        "z = fft(zz)\n",
        "v_hat = fft(v)\n",
        "tmp = np.multiply(v_hat,z)\n",
        "ifft(tmp)"
      ]
    },
    {
      "cell_type": "code",
      "execution_count": 7,
      "metadata": {
        "colab": {
          "base_uri": "https://localhost:8080/"
        },
        "id": "30PJ7jT8yLJH",
        "outputId": "8a4b2aee-3736-44fc-8379-b086b1ad4099"
      },
      "outputs": [
        {
          "data": {
            "text/plain": [
              "array([701468, 760147,  44682, 115553, 137368, 205263, 276206, 346789,\n",
              "       417660, 488615, 559558, 630513])"
            ]
          },
          "execution_count": 7,
          "metadata": {},
          "output_type": "execute_result"
        }
      ],
      "source": [
        "M.dot(v)"
      ]
    },
    {
      "cell_type": "markdown",
      "metadata": {
        "id": "4VjluGichBg-"
      },
      "source": [
        "Yes it does!"
      ]
    },
    {
      "cell_type": "markdown",
      "metadata": {
        "id": "1el_s2FRhKML"
      },
      "source": [
        "We can also flip the order of the operators and use the first row of M instead of first column then. This should give the same result."
      ]
    },
    {
      "cell_type": "code",
      "execution_count": 8,
      "metadata": {
        "colab": {
          "base_uri": "https://localhost:8080/"
        },
        "id": "b1XW3jMeV6Ty",
        "outputId": "0da0720a-b089-40bf-a61e-fbeb3f0679f0"
      },
      "outputs": [
        {
          "data": {
            "text/plain": [
              "array([701468.+0.j, 760147.+0.j,  44682.+0.j, 115553.+0.j, 137368.+0.j,\n",
              "       205263.-0.j, 276206.+0.j, 346789.+0.j, 417660.+0.j, 488615.+0.j,\n",
              "       559558.+0.j, 630513.+0.j])"
            ]
          },
          "execution_count": 8,
          "metadata": {},
          "output_type": "execute_result"
        }
      ],
      "source": [
        "cc = np.multiply(fft([1, 1, 2, 1, 8, 32, 2, 256, 4096, 8, 65536, 1024]), ifft(v))\n",
        "fft(cc)"
      ]
    },
    {
      "cell_type": "markdown",
      "metadata": {
        "id": "sKlyIi8ThaUH"
      },
      "source": [
        "**Dissection of the 12 point FFT as 4x3 split radix FFT using matrix formulation**"
      ]
    },
    {
      "cell_type": "markdown",
      "metadata": {
        "id": "V-nlf548iMXY"
      },
      "source": [
        "TODO: Write the matrix formulation of the 4x3 split radix FFT and list the reference."
      ]
    },
    {
      "cell_type": "markdown",
      "metadata": {
        "id": "gudpC4K3wPEU"
      },
      "source": [
        "DONE: See below!"
      ]
    },
    {
      "cell_type": "code",
      "execution_count": 9,
      "metadata": {
        "id": "9Mr04hoW0m59"
      },
      "outputs": [],
      "source": [
        "def FFT4(x):\n",
        "  # We use the scipy.fft for FFT4 as it is not the point here to implement it\n",
        "  return fft(x)\n",
        "def FFT12(x):\n",
        "\n",
        "  # See page 81 in \"Computational frameworks for the fast Fourier transform\" (Charles Van Loan)\n",
        "  N = len(x)\n",
        "  assert(N == 12)\n",
        "  theta = np.linspace(0,2*np.pi,N+1)\n",
        "  theta = theta[:-1]\n",
        "  zeta = np.exp(-1j*theta)\n",
        "  Nthird = N//3\n",
        "  assert(Nthird == 4)\n",
        "  I = np.eye(Nthird)\n",
        "  omega = np.exp(-2*np.pi*1j/3)\n",
        "  F_3 = np.zeros([3,3],dtype= np.complex64)\n",
        "  for i in range(3):\n",
        "    for j in range(3):\n",
        "      F_3[i,j] = omega**(i*j)\n",
        "\n",
        "  \n",
        "  tmp = [FFT4(x[0::3]),\n",
        "                                zeta[0:Nthird]* FFT4(x[1::3]),\n",
        "                                zeta[0:Nthird]**2 * FFT4(x[2::3])]\n",
        "  tmp = np.concatenate(tmp)\n",
        "\n",
        "  v = np.kron(F_3,np.eye(Nthird)) @ tmp # There are 4 length 3 vectors resulting from FFT3. These 4 vectors are multiplied with there counterparts in the representation\n",
        "                                        # of the MDS matrix in the frequency domain. Check further down for how we will compute the component-wise multiplication in the frequency\n",
        "                                        # domain while avoiding FFTs of length 3.\n",
        "\n",
        "  return v"
      ]
    },
    {
      "cell_type": "markdown",
      "metadata": {
        "id": "yajXYFrHxIPb"
      },
      "source": [
        "Check that our split-radix implementation works."
      ]
    },
    {
      "cell_type": "code",
      "execution_count": 10,
      "metadata": {
        "colab": {
          "base_uri": "https://localhost:8080/"
        },
        "id": "l-Bn7a4T8i1i",
        "outputId": "fa1cf85d-f7dc-4d31-af50-cf67c6e7a8ae"
      },
      "outputs": [
        {
          "data": {
            "text/plain": [
              "array([ True,  True,  True,  True,  True,  True,  True,  True,  True,\n",
              "        True,  True,  True])"
            ]
          },
          "execution_count": 10,
          "metadata": {},
          "output_type": "execute_result"
        }
      ],
      "source": [
        "np.isclose(fft(v),FFT12(v))"
      ]
    },
    {
      "cell_type": "markdown",
      "metadata": {
        "id": "uI7OOUMfxPUO"
      },
      "source": [
        "It does!"
      ]
    },
    {
      "cell_type": "markdown",
      "metadata": {
        "id": "rKpXPMmyhwcw"
      },
      "source": [
        "**Symblic computations in order to compute the state intermediate between the 3xFFT4 and 3xiFFT4**"
      ]
    },
    {
      "cell_type": "markdown",
      "metadata": {
        "id": "thk05Klg2dO3"
      },
      "source": [
        "W"
      ]
    },
    {
      "cell_type": "markdown",
      "metadata": {
        "id": "Dszl1-VSiaFM"
      },
      "source": [
        "This is the inverse from inverting the matrix representation above."
      ]
    },
    {
      "cell_type": "code",
      "execution_count": 11,
      "metadata": {
        "id": "lbkwFazpjYPs"
      },
      "outputs": [],
      "source": [
        "def iFFT3(x):\n",
        "  return ifft(x)\n",
        "def iFFT12(x):\n",
        "\n",
        "  N = len(x)\n",
        "  assert(N == 12)\n",
        "  theta = np.linspace(0,2*np.pi,N+1)\n",
        "  theta = theta[:-1]\n",
        "  #theta[:] = theta[::-1]\n",
        "  zeta = np.exp(1j*theta)\n",
        "  Nfourth = N//4\n",
        "  assert(Nfourth == 3)\n",
        "  I = np.eye(Nfourth)\n",
        "  omega = np.exp(2*np.pi*1j/4)\n",
        "  F_4 = np.zeros([4,4],dtype= np.complex64)\n",
        "  for i in range(4):\n",
        "    for j in range(4):\n",
        "      F_4[i,j] = omega**(i*j)/4\n",
        "\n",
        "  # After multiplying the 4 length 3 vectors of the representation of x in the frequency domain with their counterpart for MDS, we transform back:\n",
        "  tmp = [iFFT3(x[0::4]), # x[0::4] is the result of the component-wise multiplication of the first 2 length 3 vectors\n",
        "                                zeta[0:Nfourth]* iFFT3(x[1::4]),  # This is the result of the second multiplication\n",
        "                                zeta[0:Nfourth]**2 * iFFT3(x[2::4]), # Third MDS multiplication (should be real)\n",
        "                                zeta[0:Nfourth]**3 * iFFT3(x[3::4])] # This is just the conjugate of the second MDS multiplication\n",
        "  tmp = np.concatenate(tmp)\n",
        "\n",
        "  v = np.kron(F_4,np.eye(Nfourth)) @ tmp\n",
        "\n",
        "  return v"
      ]
    },
    {
      "cell_type": "markdown",
      "metadata": {
        "id": "u01zok9x3Yg4"
      },
      "source": [
        "Sanity check that our forward and backward transforms are correct:"
      ]
    },
    {
      "cell_type": "code",
      "execution_count": 12,
      "metadata": {
        "colab": {
          "base_uri": "https://localhost:8080/"
        },
        "id": "QQYVIkmqFq1d",
        "outputId": "6f4206f3-7f8e-4760-d0bb-444103624ee3"
      },
      "outputs": [
        {
          "data": {
            "text/plain": [
              "array([ 0.        +0.00000000e+00j,  1.00000002+4.35071977e-08j,\n",
              "        2.00000002-2.01917595e-08j,  3.        +1.83697008e-16j,\n",
              "        4.00000002-3.12367547e-09j,  4.99999999-2.01917602e-08j,\n",
              "        6.        -3.67394016e-16j,  7.00000001-2.01917612e-08j,\n",
              "        7.99999998-3.12367691e-09j,  9.        -1.65327317e-15j,\n",
              "        9.99999998-2.01917629e-08j, 10.99999998+4.35071947e-08j])"
            ]
          },
          "execution_count": 12,
          "metadata": {},
          "output_type": "execute_result"
        }
      ],
      "source": [
        "iFFT12(FFT12(v))"
      ]
    },
    {
      "cell_type": "markdown",
      "metadata": {
        "id": "u6rUs0a33eHn"
      },
      "source": [
        "Indeed!"
      ]
    },
    {
      "cell_type": "markdown",
      "metadata": {
        "id": "S-rWK0W65kCm"
      },
      "source": [
        "***Finding expressions for the intermediate computations between the 3 FFT4 and 3 iFFT4***"
      ]
    },
    {
      "cell_type": "markdown",
      "metadata": {
        "id": "6m7Qxw0hJBgs"
      },
      "source": [
        "In order to avoid the FFT3 and iFFT3 we perform the following manoeuver.\n",
        "We know from the above, for the 3-4 split radix FFT12, that after computing the 3 FFT4s, the rest of the \"Circulant matrix multiplied by a vector\" story goes as follows:\n",
        "\n",
        "Take the length 3 length 4 vectors and look at them as 4 length 3 vectors with the appropriate indexing -> multiply by linking factors i.e. twiddles -> apply FFT3 -> Multiply with the second similarly transformed vector representing the appropriate portion of the MDS matrix in frequency domain -> apply iFFT3 -> multiply by reverse-linking factors i.e. inverse twiddles -> Represent the 4 length 3 vectors as 3 length 4 vectors -> apply 3 iFFT4.\n",
        "\n",
        "In our context, see the reference above, we have:\n",
        "\n",
        "* Forward: $\\zeta = [exp(-i2j\\pi/12) \\text{for j in range(N)}]$ \n",
        "i.e. $\\omega = exp(-i2\\pi/12)$\n",
        "and $D := diag(I_4,\\Omega_{3,4}, \\Omega_{3,4}^2)$ equals $diag(1,1,1,1,1,\\omega^1,\\omega^2,\\omega^3,1,\\omega^2,\\omega^4,\\omega^6)$\n",
        "The scaling factors we multiply with are as follows then:\n",
        "1. $D[0::3] = (1,1,1)$\n",
        "2. $D[1::3] = (1,\\omega,\\omega^2)$\n",
        "3. $D[2::3] = (1,\\omega^2,\\omega^4)$\n",
        "4. $D[3::3] = (1,\\omega^3,\\omega^6)$\n",
        "\n",
        "* Backward linking factors: let $\\omega' = exp(i2\\pi/12)$, then the linking factors are as follows:\n",
        "1. $(1,1,1)$\n",
        "2. $(1,\\omega',\\omega'^2)$\n",
        "3. $(1,\\omega'^2,\\omega'^4)$\n",
        "4. $(1,\\omega'^3,\\omega'^6)$\n",
        "\n",
        "So for example, for the second block of multiplications, if we want to convolve $x :=[x_0,x_1,x_2]$ and $y:= [y_0,y_1,y_2]$, we do, for $d := (1,\\omega,\\omega^2)$ and $d' := (1,\\omega',\\omega'^2)$, the following:\\\n",
        "$d' * iFFT3(FFT3(d * x) * FFT3(d * y))$\n",
        "where $*$ stands here for the Hadamard product.\n",
        "In what follows we implement the following trick: compute $d' * iFFT3(FFT3(d * x) * FFT3(d * y))$ symbolically in $x,y$ so as to avoid FFT3 and iFFT3 altogether.\n"
      ]
    },
    {
      "cell_type": "code",
      "execution_count": 13,
      "metadata": {
        "id": "DbaLHSw0_xqp"
      },
      "outputs": [],
      "source": [
        "from numpy.lib.type_check import real\n",
        "from sympy import re, im, I, E, symbols, simplify, cancel\n",
        "\n",
        "x0,x1,x2,x3,x4,x5,x6,x7,x8,x9,x10,x11= symbols('x0 x1 x2 x3 x4 x5 x6 x7 x8 x9 x10 x11', real=True)\n",
        "y0,y1,y2,y3,y4,y5,y6,y7,y8,y9,y10,y11= symbols('y0 y1 y2 y3 y4 y5 y6 y7 y8 y9 y10 y11', real=True)\n",
        "f0, f1, g0, g1 = symbols('f0 f1 g0 g1', real= True)"
      ]
    },
    {
      "cell_type": "code",
      "execution_count": 14,
      "metadata": {
        "id": "rdtBLl8Rofpl"
      },
      "outputs": [],
      "source": [
        "X = [x0,x1,x2,x3,x4,x5,x6,x7,x8,x9,x10,x11]\n",
        "Y = [y0,y1,y2,y3,y4,y5,y6,y7,y8,y9,y10,y11]"
      ]
    },
    {
      "cell_type": "markdown",
      "metadata": {
        "id": "Sakbbm5SjGB8"
      },
      "source": [
        "**FFT3 and iFFT3 symbolically**\n"
      ]
    },
    {
      "cell_type": "code",
      "execution_count": 15,
      "metadata": {
        "id": "jwK-qieFvhbw"
      },
      "outputs": [],
      "source": [
        "from sympy.matrices import Matrix, eye, zeros, ones, diag, GramSchmidt"
      ]
    },
    {
      "cell_type": "markdown",
      "metadata": {
        "id": "NTbAz_1NjRO3"
      },
      "source": [
        "From: Some FFT Algorithms for Small-Length Real-Valued Sequences\n",
        "https://www.mdpi.com/2076-3417/12/9/4700/htm"
      ]
    },
    {
      "cell_type": "code",
      "execution_count": 16,
      "metadata": {
        "id": "Rabr1VwZv2XB"
      },
      "outputs": [],
      "source": [
        "A3_hat= Matrix(([1,0,0],[0,1,1],[0,1,-1]))\n",
        "A3_tild= Matrix(([1,1,0],[0,1,0],[0,0,1]))\n",
        "D3= Matrix(([1,0,0],[0,g0,0],[0,0,g1])) # g0 == -3/2 & g1 == np.sqrt(3)/2\n",
        "C3= Matrix(([1,0,0],[1,1,0],[0,0,1]))"
      ]
    },
    {
      "cell_type": "code",
      "execution_count": 17,
      "metadata": {
        "colab": {
          "base_uri": "https://localhost:8080/",
          "height": 79
        },
        "id": "sngP44CMxKZ1",
        "outputId": "b66c8723-b981-4701-a077-ca6cc6ef6254"
      },
      "outputs": [
        {
          "data": {
            "text/latex": [
              "$\\displaystyle \\left[\\begin{matrix}1 & 1 & 1\\\\1 & g_{0} + 1 & g_{0} + 1\\\\0 & g_{1} & - g_{1}\\end{matrix}\\right]$"
            ],
            "text/plain": [
              "Matrix([\n",
              "[1,      1,      1],\n",
              "[1, g0 + 1, g0 + 1],\n",
              "[0,     g1,    -g1]])"
            ]
          },
          "execution_count": 17,
          "metadata": {},
          "output_type": "execute_result"
        }
      ],
      "source": [
        "Forw3 = C3 * D3 * A3_tild * A3_hat\n",
        "Forw3"
      ]
    },
    {
      "cell_type": "code",
      "execution_count": 18,
      "metadata": {
        "colab": {
          "base_uri": "https://localhost:8080/",
          "height": 84
        },
        "id": "WJslXkhVxUnC",
        "outputId": "8c409cba-7015-43e1-9b0d-8f119d239ca9"
      },
      "outputs": [
        {
          "data": {
            "text/latex": [
              "$\\displaystyle \\left[\\begin{matrix}1 + \\frac{1}{g_{0}} & - \\frac{1}{g_{0}} & 0\\\\- \\frac{1}{2 g_{0}} & \\frac{1}{2 g_{0}} & \\frac{1}{2 g_{1}}\\\\- \\frac{1}{2 g_{0}} & \\frac{1}{2 g_{0}} & - \\frac{1}{2 g_{1}}\\end{matrix}\\right]$"
            ],
            "text/plain": [
              "Matrix([\n",
              "[ 1 + 1/g0,    -1/g0,         0],\n",
              "[-1/(2*g0), 1/(2*g0),  1/(2*g1)],\n",
              "[-1/(2*g0), 1/(2*g0), -1/(2*g1)]])"
            ]
          },
          "execution_count": 18,
          "metadata": {},
          "output_type": "execute_result"
        }
      ],
      "source": [
        "Back3 = Forw3**(-1)\n",
        "Back3"
      ]
    },
    {
      "cell_type": "code",
      "execution_count": 19,
      "metadata": {
        "id": "BJGQehaz-7Zr"
      },
      "outputs": [],
      "source": [
        "def fft3s(x):\n",
        "  [x0,x1,x2] = x\n",
        "  y0 = x0 + x1 + x2\n",
        "  y1 = x0 + (1 + g0)*(x1 + x2)\n",
        "  y2 = g1*(x1-x2)\n",
        "  return [y0,y1 - y2*I,y1 + I*y2]\n",
        "\n",
        "def ifft3s(y):\n",
        "  [z0,z1,z2] = y\n",
        "  y0 = z0\n",
        "  y1 = (z1 + z2)*0.5\n",
        "  y2 = (z2 - z1)/(2*I)\n",
        "\n",
        "  x0 = y0 + (y0 - y1)/g0\n",
        "  x1 = ((y2/(2*g1)) - (y0/(2*g0)) + (y1/(2*g0)))\n",
        "  x2 = ((-y2/(2*g1)) - (y0/(2*g0)) + (y1/(2*g0)))\n",
        "  return [x0,x1,x2]"
      ]
    },
    {
      "cell_type": "code",
      "execution_count": 20,
      "metadata": {
        "id": "qoVm0PonQP2y"
      },
      "outputs": [],
      "source": [
        "omega = np.exp(-2*1j*np.pi/12)"
      ]
    },
    {
      "cell_type": "code",
      "execution_count": 21,
      "metadata": {
        "id": "26RBf0XsQc4d"
      },
      "outputs": [],
      "source": [
        "omega_prime = np.exp(2*1j*np.pi/12)"
      ]
    },
    {
      "cell_type": "markdown",
      "metadata": {
        "id": "J_a_wbDgbbcx"
      },
      "source": [
        "**First block**"
      ]
    },
    {
      "cell_type": "code",
      "execution_count": 22,
      "metadata": {
        "id": "yIETgnV_D1Yx"
      },
      "outputs": [],
      "source": [
        "tmpo = [a*b for (a,b) in zip(fft3s([x0,x1,x2]),fft3s([y0,y1,y2]))]"
      ]
    },
    {
      "cell_type": "code",
      "execution_count": 23,
      "metadata": {
        "id": "ZEVDGvtNEB5h"
      },
      "outputs": [],
      "source": [
        "expr = [0]*3\n",
        "for i in range(3):\n",
        "  expr[i] = (ifft3s(tmpo)[i].simplify().subs({g0:-3/2, g1: np.sqrt(3)/2})).simplify().nsimplify(tolerance = 1e-14)\n"
      ]
    },
    {
      "cell_type": "code",
      "execution_count": 24,
      "metadata": {
        "colab": {
          "base_uri": "https://localhost:8080/",
          "height": 38
        },
        "id": "0YpsPm-FbOrc",
        "outputId": "c556437b-1e50-4a97-fb46-399a4347eda6"
      },
      "outputs": [
        {
          "data": {
            "text/latex": [
              "$\\displaystyle x_{0} y_{0} + x_{1} y_{2} + x_{2} y_{1}$"
            ],
            "text/plain": [
              "x0*y0 + x1*y2 + x2*y1"
            ]
          },
          "execution_count": 24,
          "metadata": {},
          "output_type": "execute_result"
        }
      ],
      "source": [
        "expr[0]"
      ]
    },
    {
      "cell_type": "code",
      "execution_count": 25,
      "metadata": {
        "colab": {
          "base_uri": "https://localhost:8080/",
          "height": 38
        },
        "id": "qvgxjn1ic4Zw",
        "outputId": "b8dbd2a0-7150-4844-cb61-f51630efd8a4"
      },
      "outputs": [
        {
          "data": {
            "text/latex": [
              "$\\displaystyle x_{0} y_{1} + x_{1} y_{0} + x_{2} y_{2}$"
            ],
            "text/plain": [
              "x0*y1 + x1*y0 + x2*y2"
            ]
          },
          "execution_count": 25,
          "metadata": {},
          "output_type": "execute_result"
        }
      ],
      "source": [
        "expr[1]"
      ]
    },
    {
      "cell_type": "code",
      "execution_count": 26,
      "metadata": {
        "colab": {
          "base_uri": "https://localhost:8080/",
          "height": 38
        },
        "id": "JgZzJlSWc4fD",
        "outputId": "d0c32433-706f-4595-f174-a8d9a9db5ada"
      },
      "outputs": [
        {
          "data": {
            "text/latex": [
              "$\\displaystyle x_{0} y_{2} + x_{1} y_{1} + x_{2} y_{0}$"
            ],
            "text/plain": [
              "x0*y2 + x1*y1 + x2*y0"
            ]
          },
          "execution_count": 26,
          "metadata": {},
          "output_type": "execute_result"
        }
      ],
      "source": [
        "expr[2]"
      ]
    },
    {
      "cell_type": "code",
      "execution_count": 27,
      "metadata": {
        "id": "51rmOVOBeVwg"
      },
      "outputs": [],
      "source": [
        "def block1(x,y):\n",
        "  [x0,x1,x2] = x\n",
        "  [y0,y1,y2] = y\n",
        "  z0 = x0*y0 + x1*y2 + x2*y1\n",
        "  z1 = x0*y1 + x1*y0 + x2*y2\n",
        "  z2 = x0*y2 + x1*y1 + x2*y0\n",
        "  return [z0, z1, z2]"
      ]
    },
    {
      "cell_type": "markdown",
      "metadata": {
        "id": "3z5i6yzrbP5d"
      },
      "source": [
        "**Second block**"
      ]
    },
    {
      "cell_type": "code",
      "execution_count": 28,
      "metadata": {
        "id": "k3DQTjxtKU4y"
      },
      "outputs": [],
      "source": [
        "x_scaled  =[(x0+I*x3),(x1+I*x4)*omega,(x2+I*x5)*omega**2]\n",
        "y_scaled  =[(y0+I*y3),(y1+I*y4)*omega,(y2+I*y5)*omega**2]"
      ]
    },
    {
      "cell_type": "code",
      "execution_count": 29,
      "metadata": {
        "id": "Q7ll-TpujZjs"
      },
      "outputs": [],
      "source": [
        "x_scaled  =[(x0),(x1)*omega,(x2)*omega**2]\n",
        "y_scaled  =[(y0),(y1)*omega,(y2)*omega**2]"
      ]
    },
    {
      "cell_type": "code",
      "execution_count": 30,
      "metadata": {
        "id": "z31KjryaRatt"
      },
      "outputs": [],
      "source": [
        "tmpo2 = [a*b for (a,b) in zip(fft3s(x_scaled),fft3s(y_scaled))]"
      ]
    },
    {
      "cell_type": "code",
      "execution_count": 31,
      "metadata": {
        "id": "KsLe2FTbR5eI"
      },
      "outputs": [],
      "source": [
        "expr = [0]*3\n",
        "for i in range(3):\n",
        "  expr[i] = (omega_prime**i * ifft3s(tmpo2)[i].simplify().subs({g0:-3/2, g1: np.sqrt(3)/2})).simplify().nsimplify(tolerance = 1e-14)"
      ]
    },
    {
      "cell_type": "code",
      "execution_count": 32,
      "metadata": {
        "colab": {
          "base_uri": "https://localhost:8080/",
          "height": 38
        },
        "id": "oKt_ycgrTb3s",
        "outputId": "dfa33d71-1a97-4a7b-edec-3fe0abd55077"
      },
      "outputs": [
        {
          "data": {
            "text/latex": [
              "$\\displaystyle x_{0} y_{0} - i x_{1} y_{2} - i x_{2} y_{1}$"
            ],
            "text/plain": [
              "x0*y0 - I*x1*y2 - I*x2*y1"
            ]
          },
          "execution_count": 32,
          "metadata": {},
          "output_type": "execute_result"
        }
      ],
      "source": [
        "expr[0]"
      ]
    },
    {
      "cell_type": "code",
      "execution_count": 33,
      "metadata": {
        "colab": {
          "base_uri": "https://localhost:8080/",
          "height": 38
        },
        "id": "prXTMbHXTq2b",
        "outputId": "472ff625-584b-4076-ec36-53031cb997f3"
      },
      "outputs": [
        {
          "data": {
            "text/latex": [
              "$\\displaystyle x_{0} y_{1} + x_{1} y_{0} - i x_{2} y_{2}$"
            ],
            "text/plain": [
              "x0*y1 + x1*y0 - I*x2*y2"
            ]
          },
          "execution_count": 33,
          "metadata": {},
          "output_type": "execute_result"
        }
      ],
      "source": [
        "expr[1]"
      ]
    },
    {
      "cell_type": "code",
      "execution_count": 34,
      "metadata": {
        "colab": {
          "base_uri": "https://localhost:8080/",
          "height": 38
        },
        "id": "_7ltoU_pUC1Y",
        "outputId": "57c80b62-3c11-4131-f67f-bbca03afaa3e"
      },
      "outputs": [
        {
          "data": {
            "text/latex": [
              "$\\displaystyle x_{0} y_{2} + x_{1} y_{1} + x_{2} y_{0}$"
            ],
            "text/plain": [
              "x0*y2 + x1*y1 + x2*y0"
            ]
          },
          "execution_count": 34,
          "metadata": {},
          "output_type": "execute_result"
        }
      ],
      "source": [
        "expr[2]"
      ]
    },
    {
      "cell_type": "code",
      "execution_count": 35,
      "metadata": {
        "id": "xhIvcJLHfb6n"
      },
      "outputs": [],
      "source": [
        "def block2(x,y):\n",
        "  [(x0r,x0i),(x1r,x1i),(x2r,x2i)] = x\n",
        "  [(y0r,y0i),(y1r,y1i),(y2r,y2i)] = y\n",
        "  x0s = x0r + x0i\n",
        "  x1s = x1r + x1i\n",
        "  x2s = x2r + x2i\n",
        "  y0s = y0r + y0i\n",
        "  y1s = y1r + y1i\n",
        "  y2s = y2r + y2i\n",
        "\n",
        "  # Compute x0​y0 ​− ix1​y2 ​− ix2​y1​ using Karatsuba\n",
        "  m0 = (x0r*y0r , x0i*y0i)\n",
        "  m1 = (x1r*y2r , x1i*y2i)\n",
        "  m2 = (x2r*y1r , x2i*y1i)\n",
        "  #print(\"y0s, y1s, y2s\", y0s, y1s, y2s)\n",
        "  z0r = (m0[0] - m0[1])           + (x1s*y2s - m1[0] - m1[1]) + (x2s*y1s - m2[0] - m2[1])\n",
        "  z0i = (x0s*y0s - m0[0] - m0[1]) + (-m1[0] + m1[1])           + (-m2[0] + m2[1]) \n",
        "  z0 = (z0r, z0i)\n",
        "\n",
        "  # Compute x0​y1​ + x1​y0 ​− ix2​y2 using Karatsuba\n",
        "  m0 = (x0r*y1r , x0i*y1i)\n",
        "  m1 = (x1r*y0r , x1i*y0i)\n",
        "  m2 = (x2r*y2r , x2i*y2i)\n",
        "  #print(\"y0s, y1s, y2s\", y0s, y1s, y2s)\n",
        "  z1r = (m0[0] - m0[1])           + (m1[0] - m1[1])           + (x2s*y2s - m2[0] - m2[1]) \n",
        "  z1i = (x0s*y1s - m0[0] - m0[1]) + (x1s*y0s - m1[0] - m1[1]) + (-m2[0] + m2[1])\n",
        "  z1 = (z1r, z1i)\n",
        "\n",
        "  # Compute x0​y2​ + x1​y1 ​+ x2​y0​ using Karatsuba\n",
        "  m0 = (x0r*y2r , x0i*y2i)\n",
        "  m1 = (x1r*y1r , x1i*y1i)\n",
        "  m2 = (x2r*y0r , x2i*y0i)\n",
        "  #print(\"y0s, y1s, y2s\", y0s, y1s, y2s)\n",
        "  z2r = (m0[0] - m0[1])           + (m1[0] - m1[1])           + (m2[0] - m2[1])\n",
        "  z2i = (x0s*y2s - m0[0] - m0[1]) + (x1s*y1s - m1[0] - m1[1]) + (x2s*y0s - m2[0] - m2[1])\n",
        "  z2 = (z2r, z2i)\n",
        "  \n",
        "\n",
        "  return [z0, z1, z2]"
      ]
    },
    {
      "cell_type": "markdown",
      "metadata": {
        "id": "YFDy7COmVkE0"
      },
      "source": [
        "**Third block**"
      ]
    },
    {
      "cell_type": "code",
      "execution_count": 36,
      "metadata": {
        "id": "sg-MLnG3UFoH"
      },
      "outputs": [],
      "source": [
        "x_scaled  =[x0,x1*omega**2,x2*omega**4]\n",
        "y_scaled  =[y0,y1*omega**2,y2*omega**4]\n",
        "tmpo3 = [a*b for (a,b) in zip(fft3s(x_scaled),fft3s(y_scaled))]\n",
        "for i in range(3):\n",
        "  expr[i] = (omega_prime**(2*i) * ifft3s(tmpo3)[i].simplify().subs({g0:-3/2, g1: np.sqrt(3)/2})).simplify().nsimplify(tolerance = 1e-14)\n"
      ]
    },
    {
      "cell_type": "code",
      "execution_count": 37,
      "metadata": {
        "colab": {
          "base_uri": "https://localhost:8080/",
          "height": 38
        },
        "id": "Y6GolZA6Usti",
        "outputId": "41012a9d-ba44-418a-814e-610712326325"
      },
      "outputs": [
        {
          "data": {
            "text/latex": [
              "$\\displaystyle x_{0} y_{0} - x_{1} y_{2} - x_{2} y_{1}$"
            ],
            "text/plain": [
              "x0*y0 - x1*y2 - x2*y1"
            ]
          },
          "execution_count": 37,
          "metadata": {},
          "output_type": "execute_result"
        }
      ],
      "source": [
        "expr[0]"
      ]
    },
    {
      "cell_type": "code",
      "execution_count": 38,
      "metadata": {
        "colab": {
          "base_uri": "https://localhost:8080/",
          "height": 38
        },
        "id": "-PdtP1N7U3Tc",
        "outputId": "c6b96f77-e808-455e-9afa-a521b2f63a94"
      },
      "outputs": [
        {
          "data": {
            "text/latex": [
              "$\\displaystyle x_{0} y_{1} + x_{1} y_{0} - x_{2} y_{2}$"
            ],
            "text/plain": [
              "x0*y1 + x1*y0 - x2*y2"
            ]
          },
          "execution_count": 38,
          "metadata": {},
          "output_type": "execute_result"
        }
      ],
      "source": [
        "expr[1]"
      ]
    },
    {
      "cell_type": "code",
      "execution_count": 39,
      "metadata": {
        "colab": {
          "base_uri": "https://localhost:8080/",
          "height": 38
        },
        "id": "D-2vgXySVCYD",
        "outputId": "2a103f10-7a2b-46e7-b924-947282abd289"
      },
      "outputs": [
        {
          "data": {
            "text/latex": [
              "$\\displaystyle x_{0} y_{2} + x_{1} y_{1} + x_{2} y_{0}$"
            ],
            "text/plain": [
              "x0*y2 + x1*y1 + x2*y0"
            ]
          },
          "execution_count": 39,
          "metadata": {},
          "output_type": "execute_result"
        }
      ],
      "source": [
        "expr[2]"
      ]
    },
    {
      "cell_type": "code",
      "execution_count": 40,
      "metadata": {
        "id": "KFzVdb0_BZnr"
      },
      "outputs": [],
      "source": [
        "def block3(x,y):\n",
        "  [x0,x1,x2] = x\n",
        "  [y0,y1,y2] = y\n",
        "  z0 = x0*y0 - x1*y2 - x2*y1\n",
        "  z1 = x0*y1 + x1*y0 - x2*y2\n",
        "  z2 = x0*y2 + x1*y1 + x2*y0\n",
        "  return [z0, z1, z2]"
      ]
    },
    {
      "cell_type": "markdown",
      "metadata": {
        "id": "kwmMsgiHXV4s"
      },
      "source": [
        "**Forth block (should be the conjugate of the second block)**"
      ]
    },
    {
      "cell_type": "code",
      "execution_count": 41,
      "metadata": {
        "id": "Bi7be1LtVKOh"
      },
      "outputs": [],
      "source": [
        "x_scaled  =[x0,x1*omega**3,x2*omega**6]\n",
        "y_scaled  =[y0,y1*omega**3,y2*omega**6]\n",
        "tmpo4 = [a*b for (a,b) in zip(fft3s(x_scaled),fft3s(y_scaled))]\n",
        "for i in range(3):\n",
        "  expr[i] = (omega_prime**(3*i) * ifft3s(tmpo4)[i].simplify().subs({g0:-3/2, g1: np.sqrt(3)/2})).simplify().nsimplify(tolerance = 1e-14)"
      ]
    },
    {
      "cell_type": "code",
      "execution_count": 42,
      "metadata": {
        "colab": {
          "base_uri": "https://localhost:8080/",
          "height": 38
        },
        "id": "RE-QnG2rXuVW",
        "outputId": "6419fc2f-9e2e-454d-c168-f1caa94d358e"
      },
      "outputs": [
        {
          "data": {
            "text/latex": [
              "$\\displaystyle x_{0} y_{0} + i x_{1} y_{2} + i x_{2} y_{1}$"
            ],
            "text/plain": [
              "x0*y0 + I*x1*y2 + I*x2*y1"
            ]
          },
          "execution_count": 42,
          "metadata": {},
          "output_type": "execute_result"
        }
      ],
      "source": [
        "expr[0]"
      ]
    },
    {
      "cell_type": "code",
      "execution_count": 43,
      "metadata": {
        "colab": {
          "base_uri": "https://localhost:8080/",
          "height": 38
        },
        "id": "1YykPssKX2el",
        "outputId": "6f6e76d5-efb0-49f2-a6f4-217a95fcc98e"
      },
      "outputs": [
        {
          "data": {
            "text/latex": [
              "$\\displaystyle x_{0} y_{1} + x_{1} y_{0} + i x_{2} y_{2}$"
            ],
            "text/plain": [
              "x0*y1 + x1*y0 + I*x2*y2"
            ]
          },
          "execution_count": 43,
          "metadata": {},
          "output_type": "execute_result"
        }
      ],
      "source": [
        "expr[1]"
      ]
    },
    {
      "cell_type": "code",
      "execution_count": 44,
      "metadata": {
        "colab": {
          "base_uri": "https://localhost:8080/",
          "height": 38
        },
        "id": "lisufD7OX-Qe",
        "outputId": "40de5115-8c17-4c53-d4f3-85ba61851849"
      },
      "outputs": [
        {
          "data": {
            "text/latex": [
              "$\\displaystyle x_{0} y_{2} + x_{1} y_{1} + x_{2} y_{0}$"
            ],
            "text/plain": [
              "x0*y2 + x1*y1 + x2*y0"
            ]
          },
          "execution_count": 44,
          "metadata": {},
          "output_type": "execute_result"
        }
      ],
      "source": [
        "expr[2]"
      ]
    },
    {
      "cell_type": "markdown",
      "metadata": {
        "id": "fQ3X5mJfj9KS"
      },
      "source": [
        "Indeed!"
      ]
    },
    {
      "cell_type": "markdown",
      "metadata": {
        "id": "8J7EiJbJe52p"
      },
      "source": [
        "**Actual implementation of multiplication of a circular matrix by a vector in the frequency domain in O(nlog(n))**"
      ]
    },
    {
      "cell_type": "code",
      "execution_count": 45,
      "metadata": {
        "id": "GZ0Y5weNhkkX"
      },
      "outputs": [],
      "source": [
        "def fft2(x):\n",
        "  x0 = x[0]\n",
        "  x1 = x[1]\n",
        "  return [x0 + x1, x0 - x1]\n",
        "\n",
        "def ifft2(x):\n",
        "  x0 = x[0]\n",
        "  x1 = x[1]\n",
        "  return [(x0 + x1) >> 1 , (x0 - x1) >> 1]\n",
        "\n",
        "def fft4(x):\n",
        "  z = [0,0,0,0]\n",
        "  z[0], z[2] = fft2([x[0],x[2]])\n",
        "  z[1], z[3] = fft2([x[1],x[3]])\n",
        "  y0 = z[0] + z[1]\n",
        "  y1 = (z[2],-z[3])\n",
        "  y2 = z[0] - z[1]\n",
        "  return (y0, y1, y2)\n",
        "\n",
        "def ifft4(y):\n",
        "  z = [0,0,0,0]\n",
        "  z[0] = (y[0] + y[2]) >> 1\n",
        "  z[1] = (y[0] - y[2]) >> 1\n",
        "  z[2] = y[1][0]\n",
        "  z[3] = -y[1][1]\n",
        "  x = [0,0,0,0]\n",
        "  [x[0],x[2]] = ifft2([z[0],z[2]])\n",
        "  [x[1],x[3]] = ifft2([z[1],z[3]])\n",
        "  return x\n"
      ]
    },
    {
      "cell_type": "code",
      "execution_count": 46,
      "metadata": {
        "colab": {
          "base_uri": "https://localhost:8080/"
        },
        "id": "gMhhbPjNvxHF",
        "outputId": "9b8d57cb-5680-4ae9-a489-e48bfb8a2669"
      },
      "outputs": [
        {
          "data": {
            "text/plain": [
              "[34, 5, -1, 4]"
            ]
          },
          "execution_count": 46,
          "metadata": {},
          "output_type": "execute_result"
        }
      ],
      "source": [
        "ifft4(fft4([34,5,-1,4]))"
      ]
    },
    {
      "cell_type": "code",
      "execution_count": 47,
      "metadata": {
        "id": "gWWLdszlB3_J"
      },
      "outputs": [],
      "source": [
        "def fft4x3(x):\n",
        "  [x0, x1, x2, x3, x4, x5, x6, x7, x8, x9, x10, x11] = x\n",
        "  (y0, y1, y2) = fft4([x0, x3, x6, x9])   # y3 is conjugate of y1\n",
        "  (y4, y5, y6) = fft4([x1, x4, x7, x10])  # y7 is conjugate of y5\n",
        "  (y8, y9, y10) = fft4([x2, x5, x8, x11]) # y11 is conjugate of y9\n",
        "  return (\n",
        "      [y0, y4, y8],\n",
        "      [y1, y5, y9],\n",
        "      [y2, y6, y10]\n",
        "  )"
      ]
    },
    {
      "cell_type": "code",
      "execution_count": 48,
      "metadata": {
        "id": "m3OwlUKXZ9v-"
      },
      "outputs": [],
      "source": [
        "def mds_frequency(x):\n",
        "  return fft4x3(x)"
      ]
    },
    {
      "cell_type": "code",
      "execution_count": 49,
      "metadata": {
        "id": "844tO5vyoHQJ"
      },
      "outputs": [],
      "source": [
        "def block1(x,y):\n",
        "  [x0,x1,x2] = x\n",
        "  [y0,y1,y2] = y\n",
        "  z0 = x0*y0 + x1*y2 + x2*y1\n",
        "  z1 = x0*y1 + x1*y0 + x2*y2\n",
        "  z2 = x0*y2 + x1*y1 + x2*y0\n",
        "  return [z0, z1, z2]\n",
        "\n",
        "\n",
        "def block2(x,y):\n",
        "  [(x0r,x0i),(x1r,x1i),(x2r,x2i)] = x\n",
        "  [(y0r,y0i),(y1r,y1i),(y2r,y2i)] = y\n",
        "  x0s = x0r + x0i\n",
        "  x1s = x1r + x1i\n",
        "  x2s = x2r + x2i\n",
        "  y0s = y0r + y0i\n",
        "  y1s = y1r + y1i\n",
        "  y2s = y2r + y2i\n",
        "\n",
        "  # Compute x0​y0​−ix1​y2​−ix2​y1​ using Karatsuba\n",
        "  m0 = (x0r*y0r , x0i*y0i)\n",
        "  m1 = (x1r*y2r , x1i*y2i)\n",
        "  m2 = (x2r*y1r , x2i*y1i)\n",
        "  z0r = (m0[0] - m0[1])           + (x1s*y2s - m1[0] - m1[1]) + (x2s*y1s - m2[0] - m2[1])\n",
        "  z0i = (x0s*y0s - m0[0] - m0[1]) + (-m1[0] + m1[1])           + (-m2[0] + m2[1]) \n",
        "  z0 = (z0r, z0i)\n",
        "\n",
        "  #print(\"z0 is (correct) {?}\", z0)\n",
        "\n",
        "  # Compute x0​y1​+x1​y0​−ix2​y2 using Karatsuba\n",
        "  m0 = (x0r*y1r , x0i*y1i)\n",
        "  m1 = (x1r*y0r , x1i*y0i)\n",
        "  m2 = (x2r*y2r , x2i*y2i)\n",
        "  z1r = (m0[0] - m0[1])           + (m1[0] - m1[1])           + (x2s*y2s - m2[0] - m2[1]) \n",
        "  z1i = (x0s*y1s - m0[0] - m0[1]) + (x1s*y0s - m1[0] - m1[1]) + (-m2[0] + m2[1])\n",
        "  z1 = (z1r, z1i)\n",
        "\n",
        "  # Compute x0​y2​+x1​y1​+x2​y0​ using Karatsuba\n",
        "  m0 = (x0r*y2r , x0i*y2i)\n",
        "  m1 = (x1r*y1r , x1i*y1i)\n",
        "  m2 = (x2r*y0r , x2i*y0i)\n",
        "  z2r = (m0[0] - m0[1])           + (m1[0] - m1[1])           + (m2[0] - m2[1])\n",
        "  z2i = (x0s*y2s - m0[0] - m0[1]) + (x1s*y1s - m1[0] - m1[1]) + (x2s*y0s - m2[0] - m2[1])\n",
        "  z2 = (z2r, z2i)\n",
        "\n",
        "\n",
        "  return [z0, z1, z2]\n",
        "\n",
        "\n",
        "def block3(x,y):\n",
        "  [x0,x1,x2] = x\n",
        "  [y0,y1,y2] = y\n",
        "  z0 = x0*y0 - x1*y2 - x2*y1\n",
        "  z1 = x0*y1 + x1*y0 - x2*y2\n",
        "  z2 = x0*y2 + x1*y1 + x2*y0\n",
        "  return [z0, z1, z2]"
      ]
    },
    {
      "cell_type": "code",
      "execution_count": 50,
      "metadata": {
        "id": "-Kjd1htWB4Fw"
      },
      "outputs": [],
      "source": [
        "def MDS_multiply_freq(state):\n",
        "  [s0, s1, s2, s3, s4, s5, s6, s7, s8, s9, s10, s11] = state\n",
        "\n",
        "  (u0, u1, u2) = fft4([s0, s3, s6, s9])\n",
        "  (u4, u5, u6) = fft4([s1, s4, s7, s10])\n",
        "  (u8, u9, u10) = fft4([s2, s5, s8, s11])\n",
        "\n",
        "  [v0, v4, v8] = block1([u0, u4, u8], MDS_FREQ_BLOCK_ONE)\n",
        "  [v1, v5, v9] = block2([u1, u5, u9], MDS_FREQ_BLOCK_TWO)\n",
        "  [v2, v6, v10] = block3([u2, u6, u10], MDS_FREQ_BLOCK_THREE)\n",
        "\n",
        "  [s0, s3, s6, s9] = ifft4((v0, v1, v2))\n",
        "  [s1, s4, s7, s10] = ifft4((v4, v5, v6))\n",
        "  [s2, s5, s8, s11] = ifft4((v8, v9, v10))\n",
        "\n",
        "  return [s0, s1, s2, s3, s4, s5, s6, s7, s8, s9, s10, s11]"
      ]
    },
    {
      "cell_type": "code",
      "execution_count": 51,
      "metadata": {
        "id": "vDJPl3HzaXqv"
      },
      "outputs": [],
      "source": [
        "MDS_FREQ_BLOCK_ONE = mds_frequency([1, 1024, 65536, 8, 4096, 256, 2, 32, 8, 1, 2, 1])[0]\n",
        "MDS_FREQ_BLOCK_TWO = mds_frequency([1, 1024, 65536, 8, 4096, 256, 2, 32, 8, 1, 2, 1])[1]\n",
        "MDS_FREQ_BLOCK_THREE = mds_frequency([1, 1024, 65536, 8, 4096, 256, 2, 32, 8, 1, 2, 1])[2]"
      ]
    },
    {
      "cell_type": "code",
      "execution_count": 52,
      "metadata": {
        "colab": {
          "base_uri": "https://localhost:8080/"
        },
        "id": "eNeomesh3HWU",
        "outputId": "c5814faf-7d18-4768-c10e-a25476beb9e0"
      },
      "outputs": [
        {
          "data": {
            "text/plain": [
              "[-6, -3042, 65287]"
            ]
          },
          "execution_count": 52,
          "metadata": {},
          "output_type": "execute_result"
        }
      ],
      "source": [
        "MDS_FREQ_BLOCK_THREE"
      ]
    },
    {
      "cell_type": "code",
      "execution_count": 53,
      "metadata": {
        "colab": {
          "base_uri": "https://localhost:8080/"
        },
        "id": "cEg-hiZ3eJQi",
        "outputId": "7ee75a1e-d065-4616-8b88-deb0a6b81cd4"
      },
      "outputs": [
        {
          "data": {
            "text/plain": [
              "array([0, 0, 0, 0, 0, 0, 0, 0, 0, 0, 0, 0])"
            ]
          },
          "execution_count": 53,
          "metadata": {},
          "output_type": "execute_result"
        }
      ],
      "source": [
        "MDS_multiply_freq(v**12) - M.dot(v**12)"
      ]
    },
    {
      "cell_type": "markdown",
      "metadata": {
        "id": "6kZABzKi6rHQ"
      },
      "source": [
        "Yay!"
      ]
    }
  ],
  "metadata": {
    "colab": {
      "authorship_tag": "ABX9TyMEmUGgwRHB6mCookcLghaE",
      "collapsed_sections": [],
      "include_colab_link": true,
      "name": "circulant.ipynb",
      "provenance": []
    },
    "interpreter": {
      "hash": "916dbcbb3f70747c44a77c7bcd40155683ae19c65e1c03b4aa3499c5328201f1"
    },
    "kernelspec": {
      "display_name": "Python 3.8.5 64-bit",
      "language": "python",
      "name": "python3"
    },
    "language_info": {
      "codemirror_mode": {
        "name": "ipython",
        "version": 3
      },
      "file_extension": ".py",
      "mimetype": "text/x-python",
      "name": "python",
      "nbconvert_exporter": "python",
      "pygments_lexer": "ipython3",
      "version": "3.8.5"
    }
  },
  "nbformat": 4,
  "nbformat_minor": 0
}
